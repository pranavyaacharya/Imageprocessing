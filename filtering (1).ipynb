{
 "cells": [
  {
   "cell_type": "code",
   "execution_count": 1,
   "id": "623435bc",
   "metadata": {},
   "outputs": [],
   "source": [
    "#spatial filters averaging filter and median filter and median filter in image processing\n",
    "import cv2\n",
    "import numpy as np"
   ]
  },
  {
   "cell_type": "code",
   "execution_count": 2,
   "id": "87a5204b",
   "metadata": {},
   "outputs": [],
   "source": [
    "img_noisy1=cv2.imread(\"image10.jpg\",0)\n"
   ]
  },
  {
   "cell_type": "code",
   "execution_count": 3,
   "id": "ec97d190",
   "metadata": {},
   "outputs": [],
   "source": [
    "#obtaining the number of rows and columns\n",
    "m,n=img_noisy1.shape"
   ]
  },
  {
   "cell_type": "code",
   "execution_count": 4,
   "id": "8c5907df",
   "metadata": {},
   "outputs": [],
   "source": [
    "\n",
    "#traverse the image for every 3x3 area and find the median of the pixel and replace the center pixel\n",
    "img_new1=np.zeros([m,n])\n",
    "for i in range(1,m-1):\n",
    "    for j in range(1,n-1):\n",
    "        temp=[img_noisy1[i-1,j-1],img_noisy1[i-1,j],img_noisy1[i-1,j+1],img_noisy1[i,j-1],img_noisy1[i,j],img_noisy1[i,j+1],img_noisy1[i+1,j-1],img_noisy1[i+1,j],img_noisy1[i+1,j+1]]\n",
    "        temp=sorted(temp)\n",
    "        img_new1[i,j]=temp[4]\n",
    "        img_new1=img_new1.astype(np.uint8)\n",
    "cv2.imshow(\"median filterd image\",img_new1)\n",
    "cv2.waitKey()\n",
    "cv2.destroyAllWindows()\n"
   ]
  },
  {
   "cell_type": "code",
   "execution_count": 5,
   "id": "528c0ad2",
   "metadata": {},
   "outputs": [],
   "source": [
    "#bitwise operator\n",
    "import cv2\n",
    "img1=cv2.imread(\"buny.jpg\")\n",
    "img2=cv2.imread(\"doggy.jpg\")\n"
   ]
  },
  {
   "cell_type": "code",
   "execution_count": 6,
   "id": "3690c273",
   "metadata": {},
   "outputs": [],
   "source": [
    "bitwise_AND=cv2.bitwise_and(img1,img2)\n",
    "bitwise_OR=cv2.bitwise_or(img1,img2)\n",
    "bitwise_NOT=cv2.bitwise_not(img1)"
   ]
  },
  {
   "cell_type": "code",
   "execution_count": 7,
   "id": "40edfc38",
   "metadata": {},
   "outputs": [],
   "source": [
    "cv2.imshow(\"img1\",img1)\n",
    "cv2.imshow(\"img2\",img2)\n",
    "cv2.imshow(\"AND\",bitwise_AND)\n",
    "cv2.imshow(\"OR\",bitwise_OR)\n",
    "cv2.imshow(\"NOT\",bitwise_NOT)\n",
    "cv2.waitKey(0)\n",
    "cv2.destroyAllWindows()"
   ]
  },
  {
   "cell_type": "code",
   "execution_count": 8,
   "id": "b3a1e660",
   "metadata": {},
   "outputs": [],
   "source": [
    "#changing the background of an image\n",
    "from PIL import Image,ImageDraw,ImageFilter\n",
    "im1=Image.open(\"cartoon.jpg\")\n",
    "im2=Image.open(\"globe.jpg\")\n",
    "mask_im=Image.new(\"L\",im2.size,0)\n",
    "draw=ImageDraw.Draw(mask_im)\n",
    "draw.ellipse((150,105,310,300),fill=225)\n",
    "mask_im_blur=mask_im.filter(ImageFilter.GaussianBlur(10))\n",
    "back_im=im1.copy()\n",
    "back_im.paste(im2,(0,0),mask_im_blur)\n",
    "back_im.show()"
   ]
  },
  {
   "cell_type": "code",
   "execution_count": 13,
   "id": "2cac63da",
   "metadata": {},
   "outputs": [],
   "source": [
    "import cv2\n",
    "import numpy as np\n",
    "img=cv2.imread(\"npoise.jpg\",0)\n",
    "m,n=img.shape\n",
    "#develop averaging filter(3,3) mask\n",
    "mask=np.ones([3,3],dtype=int)\n",
    "mask=mask/9\n",
    "#construct 3x3 mask over theimage\n",
    "img_new=np.zeros([m,n])\n",
    "for i in range(1,m-1):\n",
    "    for j in range(1,n-1):\n",
    "        temp=img[i-1,j-1]*mask[0,0]+img[i-1,j]*mask[0,1]+img[i-1,j+1]*mask[0,2]+img[i,j-1]*mask[1,0]+img[i,j]*mask[1,1]+img[i,j+1]*mask[1,2] +img[i+1,j-1]*mask[2,0]+img[i+1,j]*mask[2,1]+img[i+1,j+1]*mask[2,2]\n",
    "        img_new[i,j]=temp\n",
    "        img_new=img_new.astype(np.uint8)\n",
    "cv2.imshow(\"median filterd image\",img_new)\n",
    "cv2.waitKey()\n",
    "cv2.destroyAllWindows() \n"
   ]
  },
  {
   "cell_type": "code",
   "execution_count": null,
   "id": "e40b22d5",
   "metadata": {},
   "outputs": [],
   "source": [
    "import cv2\n",
    "import matplotlib.pyplot as plt\n",
    "import numpy as np\n",
    " \n",
    "# Read the original image and know its type\n",
    "img1 = cv2.imread('cartoon.jpg', 0)\n",
    " \n",
    "# Obtain the size of the original image\n",
    "[m, n] = img1.shape\n",
    "print('Image Shape:', m, n)\n",
    " \n",
    "# Show original image\n",
    "print('Original Image:')\n",
    "plt.imshow(img1, cmap=\"gray\")\n",
    "\n",
    "\n",
    " \n",
    " "
   ]
  },
  {
   "cell_type": "code",
   "execution_count": null,
   "id": "be93fe37",
   "metadata": {},
   "outputs": [],
   "source": []
  },
  {
   "cell_type": "code",
   "execution_count": null,
   "id": "ff6f94f6",
   "metadata": {},
   "outputs": [],
   "source": []
  }
 ],
 "metadata": {
  "kernelspec": {
   "display_name": "Python 3 (ipykernel)",
   "language": "python",
   "name": "python3"
  },
  "language_info": {
   "codemirror_mode": {
    "name": "ipython",
    "version": 3
   },
   "file_extension": ".py",
   "mimetype": "text/x-python",
   "name": "python",
   "nbconvert_exporter": "python",
   "pygments_lexer": "ipython3",
   "version": "3.9.7"
  }
 },
 "nbformat": 4,
 "nbformat_minor": 5
}
