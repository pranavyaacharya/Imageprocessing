{
 "cells": [
  {
   "cell_type": "code",
   "execution_count": 19,
   "id": "6428c375",
   "metadata": {},
   "outputs": [
    {
     "name": "stdout",
     "output_type": "stream",
     "text": [
      "C:/test\\invert_solar.jpg\n",
      "C:/test\\invert_sun.jpg\n",
      "C:/test\\invert_sun2.jpg\n",
      "C:/test\\invert_water.pg.png\n",
      "C:/test\\invert_watermark.jpg\n"
     ]
    }
   ],
   "source": [
    "\n",
    "# Code to apply operations on all the images  present in a folder one by one\n",
    "# operations such as rotating, cropping,\n",
    "\n",
    "from PIL import Image\n",
    "from PIL import ImageFilter\n",
    "import os\n",
    "\n",
    "def main():\n",
    "# path of the folder containing the raw images\n",
    "    inPath =\"C:/background\"\n",
    "\n",
    "# path of the folder that will contain the modified image\n",
    "    outPath =\"C:/test\"\n",
    "\n",
    "    for imagePath in os.listdir(inPath):\n",
    "# imagePath contains name of the image\n",
    "         inputPath = os.path.join(inPath, imagePath)\n",
    "\n",
    "# inputPath contains the full directory name\n",
    "         img = Image.open(inputPath)\n",
    "\n",
    "         fullOutPath = os.path.join(outPath, 'invert_'+imagePath)\n",
    "# fullOutPath contains the path of the output\n",
    "# image that needs to be generated\n",
    "         img.rotate(90).save(fullOutPath)\n",
    "\n",
    "         print(fullOutPath)\n",
    "\n",
    "# Driver Function\n",
    "if __name__ == '__main__':\n",
    "    main()"
   ]
  },
  {
   "cell_type": "code",
   "execution_count": null,
   "id": "76b031ec",
   "metadata": {},
   "outputs": [],
   "source": []
  }
 ],
 "metadata": {
  "kernelspec": {
   "display_name": "Python 3 (ipykernel)",
   "language": "python",
   "name": "python3"
  },
  "language_info": {
   "codemirror_mode": {
    "name": "ipython",
    "version": 3
   },
   "file_extension": ".py",
   "mimetype": "text/x-python",
   "name": "python",
   "nbconvert_exporter": "python",
   "pygments_lexer": "ipython3",
   "version": "3.9.7"
  }
 },
 "nbformat": 4,
 "nbformat_minor": 5
}
