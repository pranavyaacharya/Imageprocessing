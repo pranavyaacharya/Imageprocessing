{
 "cells": [
  {
   "cell_type": "code",
   "execution_count": 2,
   "id": "75a31ebe",
   "metadata": {},
   "outputs": [],
   "source": [
    "import cv2\n",
    "import skimage.io\n",
    "import skimage.util\n",
    "\n",
    "a = skimage.io.imread('image9.jpg')\n",
    "#print(a.shape)\n",
    "# (225, 400, 3)\n",
    "\n",
    "b = a // 2\n",
    "c = a // 3\n",
    "\n",
    "m = skimage.util.montage([a, b, c], multichannel=True)\n",
    "#print(m.shape)\n",
    "# (450, 800, 3)\n",
    "\n",
    "cv2.imshow('to display images',m)\n",
    "cv2.waitKey(0)\n",
    "cv2.destroyAllWindows()\n"
   ]
  },
  {
   "cell_type": "code",
   "execution_count": null,
   "id": "ac85fc1b",
   "metadata": {},
   "outputs": [],
   "source": []
  }
 ],
 "metadata": {
  "kernelspec": {
   "display_name": "Python 3 (ipykernel)",
   "language": "python",
   "name": "python3"
  },
  "language_info": {
   "codemirror_mode": {
    "name": "ipython",
    "version": 3
   },
   "file_extension": ".py",
   "mimetype": "text/x-python",
   "name": "python",
   "nbconvert_exporter": "python",
   "pygments_lexer": "ipython3",
   "version": "3.9.7"
  }
 },
 "nbformat": 4,
 "nbformat_minor": 5
}
