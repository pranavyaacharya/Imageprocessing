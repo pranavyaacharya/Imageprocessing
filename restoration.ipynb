{
 "cells": [
  {
   "cell_type": "code",
   "execution_count": 3,
   "id": "f239f2d5",
   "metadata": {},
   "outputs": [],
   "source": [
    "import numpy as np\n",
    "import cv2\n",
    " \n",
    "# Open the image.\n",
    "img = cv2.imread('cat_damaged.jpg')\n",
    " \n",
    "# Load the mask.\n",
    "mask = cv2.imread('cat_mask.jpg', 0)\n",
    " \n",
    "# Inpaint.\n",
    "dst = cv2.inpaint(img, mask, 3, cv2.INPAINT_NS)\n",
    " \n",
    "# Write the output.\n",
    "cv2.imshow('to display images',img)\n",
    "cv2.imshow('to display images',mask)\n",
    "cv2.imshow('to display images',dst)\n",
    "cv2.waitKey(0)\n",
    "cv2.destroyAllWindows()\n"
   ]
  },
  {
   "cell_type": "code",
   "execution_count": null,
   "id": "2a41cfd1",
   "metadata": {},
   "outputs": [],
   "source": []
  },
  {
   "cell_type": "code",
   "execution_count": null,
   "id": "0b0c3c34",
   "metadata": {},
   "outputs": [],
   "source": []
  }
 ],
 "metadata": {
  "kernelspec": {
   "display_name": "Python 3 (ipykernel)",
   "language": "python",
   "name": "python3"
  },
  "language_info": {
   "codemirror_mode": {
    "name": "ipython",
    "version": 3
   },
   "file_extension": ".py",
   "mimetype": "text/x-python",
   "name": "python",
   "nbconvert_exporter": "python",
   "pygments_lexer": "ipython3",
   "version": "3.9.7"
  }
 },
 "nbformat": 4,
 "nbformat_minor": 5
}
